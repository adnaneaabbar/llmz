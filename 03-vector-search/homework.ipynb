{
 "cells": [
  {
   "cell_type": "code",
   "execution_count": 1,
   "id": "4aecaf03-93c3-4f51-85c5-cd16a78a7379",
   "metadata": {},
   "outputs": [
    {
     "name": "stdout",
     "output_type": "stream",
     "text": [
      "3.10.14 (main, May  6 2024, 19:42:50) [GCC 11.2.0]\n"
     ]
    }
   ],
   "source": [
    "import sys\n",
    "print(sys.version)"
   ]
  },
  {
   "cell_type": "code",
   "execution_count": 2,
   "id": "dc2a58bb-8974-4d3f-baa2-982bf6fd8c23",
   "metadata": {},
   "outputs": [
    {
     "name": "stdout",
     "output_type": "stream",
     "text": [
      "llmz\n"
     ]
    }
   ],
   "source": [
    "import os\n",
    "print(os.environ['CONDA_DEFAULT_ENV'])"
   ]
  },
  {
   "cell_type": "markdown",
   "id": "c93052ba-8e04-4038-8c41-a018ac954e79",
   "metadata": {},
   "source": [
    "# Question 1"
   ]
  },
  {
   "cell_type": "code",
   "execution_count": 4,
   "id": "674a1442-d45e-4a3e-98b5-aa16998f164e",
   "metadata": {},
   "outputs": [],
   "source": [
    "model_name = \"multi-qa-distilbert-cos-v1\""
   ]
  },
  {
   "cell_type": "code",
   "execution_count": 5,
   "id": "0d782bb4-e049-4904-93c3-e8c91a3a1ce9",
   "metadata": {},
   "outputs": [
    {
     "data": {
      "application/vnd.jupyter.widget-view+json": {
       "model_id": "7bf5c598a7284a4c9b609acdc1ccdc16",
       "version_major": 2,
       "version_minor": 0
      },
      "text/plain": [
       "modules.json:   0%|          | 0.00/349 [00:00<?, ?B/s]"
      ]
     },
     "metadata": {},
     "output_type": "display_data"
    },
    {
     "data": {
      "application/vnd.jupyter.widget-view+json": {
       "model_id": "b002712374a04707bc8c62f969d67348",
       "version_major": 2,
       "version_minor": 0
      },
      "text/plain": [
       "config_sentence_transformers.json:   0%|          | 0.00/116 [00:00<?, ?B/s]"
      ]
     },
     "metadata": {},
     "output_type": "display_data"
    },
    {
     "data": {
      "application/vnd.jupyter.widget-view+json": {
       "model_id": "fcbf02039b754f5ead4178e258b06ef6",
       "version_major": 2,
       "version_minor": 0
      },
      "text/plain": [
       "README.md:   0%|          | 0.00/9.52k [00:00<?, ?B/s]"
      ]
     },
     "metadata": {},
     "output_type": "display_data"
    },
    {
     "data": {
      "application/vnd.jupyter.widget-view+json": {
       "model_id": "032af128c52c490489aa9d3725cc3809",
       "version_major": 2,
       "version_minor": 0
      },
      "text/plain": [
       "sentence_bert_config.json:   0%|          | 0.00/53.0 [00:00<?, ?B/s]"
      ]
     },
     "metadata": {},
     "output_type": "display_data"
    },
    {
     "data": {
      "application/vnd.jupyter.widget-view+json": {
       "model_id": "fdbc27fb4fb242c6aa84b5886d643704",
       "version_major": 2,
       "version_minor": 0
      },
      "text/plain": [
       "config.json:   0%|          | 0.00/523 [00:00<?, ?B/s]"
      ]
     },
     "metadata": {},
     "output_type": "display_data"
    },
    {
     "data": {
      "application/vnd.jupyter.widget-view+json": {
       "model_id": "ede554bc8b134166898da98bd737c5ac",
       "version_major": 2,
       "version_minor": 0
      },
      "text/plain": [
       "model.safetensors:   0%|          | 0.00/265M [00:00<?, ?B/s]"
      ]
     },
     "metadata": {},
     "output_type": "display_data"
    },
    {
     "data": {
      "application/vnd.jupyter.widget-view+json": {
       "model_id": "8c3ff7404568491daa56e5f15583b472",
       "version_major": 2,
       "version_minor": 0
      },
      "text/plain": [
       "tokenizer_config.json:   0%|          | 0.00/333 [00:00<?, ?B/s]"
      ]
     },
     "metadata": {},
     "output_type": "display_data"
    },
    {
     "data": {
      "application/vnd.jupyter.widget-view+json": {
       "model_id": "13869ee04bd6484ba6216330326d3b4a",
       "version_major": 2,
       "version_minor": 0
      },
      "text/plain": [
       "vocab.txt:   0%|          | 0.00/232k [00:00<?, ?B/s]"
      ]
     },
     "metadata": {},
     "output_type": "display_data"
    },
    {
     "data": {
      "application/vnd.jupyter.widget-view+json": {
       "model_id": "cfecd988b6be4514944c66f3574a0504",
       "version_major": 2,
       "version_minor": 0
      },
      "text/plain": [
       "tokenizer.json:   0%|          | 0.00/466k [00:00<?, ?B/s]"
      ]
     },
     "metadata": {},
     "output_type": "display_data"
    },
    {
     "data": {
      "application/vnd.jupyter.widget-view+json": {
       "model_id": "6ccccc591b5e498ebffbb673c00dc948",
       "version_major": 2,
       "version_minor": 0
      },
      "text/plain": [
       "special_tokens_map.json:   0%|          | 0.00/112 [00:00<?, ?B/s]"
      ]
     },
     "metadata": {},
     "output_type": "display_data"
    },
    {
     "data": {
      "application/vnd.jupyter.widget-view+json": {
       "model_id": "515d7d9c6cb9425b877b92c31cb6797e",
       "version_major": 2,
       "version_minor": 0
      },
      "text/plain": [
       "1_Pooling/config.json:   0%|          | 0.00/190 [00:00<?, ?B/s]"
      ]
     },
     "metadata": {},
     "output_type": "display_data"
    }
   ],
   "source": [
    "from sentence_transformers import SentenceTransformer\n",
    "embedding_model = SentenceTransformer(model_name)"
   ]
  },
  {
   "cell_type": "code",
   "execution_count": 6,
   "id": "cd5136e7-b8c4-4257-a132-cfb13051381d",
   "metadata": {},
   "outputs": [],
   "source": [
    "user_question = \"I just discovered the course. Can I still join it?\""
   ]
  },
  {
   "cell_type": "code",
   "execution_count": 10,
   "id": "cbb68fd8-45cc-4eb7-9f6b-6acf9819e626",
   "metadata": {},
   "outputs": [],
   "source": [
    "v_q = embedding_model.encode(user_question)"
   ]
  },
  {
   "cell_type": "code",
   "execution_count": 11,
   "id": "bd809089-0a76-4007-8c3b-2309e5aef51e",
   "metadata": {},
   "outputs": [
    {
     "name": "stdout",
     "output_type": "stream",
     "text": [
      "0.078222625\n"
     ]
    }
   ],
   "source": [
    "print(v_q[0])"
   ]
  },
  {
   "cell_type": "code",
   "execution_count": 22,
   "id": "91ba845a-eb87-4cdd-83b8-ea44a237f993",
   "metadata": {},
   "outputs": [],
   "source": [
    "import requests \n",
    "\n",
    "base_url = 'https://github.com/DataTalksClub/llm-zoomcamp/blob/main'\n",
    "relative_url = '03-vector-search/eval/documents-with-ids.json'\n",
    "docs_url = f'{base_url}/{relative_url}?raw=1'\n",
    "docs_response = requests.get(docs_url)\n",
    "documents = docs_response.json()"
   ]
  },
  {
   "cell_type": "code",
   "execution_count": 23,
   "id": "c11b5fef-4949-4276-8b3b-ca8cab97a012",
   "metadata": {},
   "outputs": [
    {
     "data": {
      "text/plain": [
       "{'text': \"The purpose of this document is to capture frequently asked technical questions\\nThe exact day and hour of the course will be 15th Jan 2024 at 17h00. The course will start with the first  “Office Hours'' live.1\\nSubscribe to course public Google Calendar (it works from Desktop only).\\nRegister before the course starts using this link.\\nJoin the course Telegram channel with announcements.\\nDon’t forget to register in DataTalks.Club's Slack and join the channel.\",\n",
       " 'section': 'General course-related questions',\n",
       " 'question': 'Course - When will the course start?',\n",
       " 'course': 'data-engineering-zoomcamp',\n",
       " 'id': 'c02e79ef'}"
      ]
     },
     "execution_count": 23,
     "metadata": {},
     "output_type": "execute_result"
    }
   ],
   "source": [
    "documents[0]"
   ]
  },
  {
   "cell_type": "code",
   "execution_count": 24,
   "id": "1b4fd21a-f1b3-4c4e-8ea3-ff6788b3827d",
   "metadata": {},
   "outputs": [],
   "source": [
    "documents = list(filter(lambda doc: doc[\"course\"] == \"machine-learning-zoomcamp\", documents))"
   ]
  },
  {
   "cell_type": "code",
   "execution_count": 25,
   "id": "a7411ec7-36fb-40d9-98a0-e1ed1a1fc1ff",
   "metadata": {},
   "outputs": [
    {
     "data": {
      "text/plain": [
       "375"
      ]
     },
     "execution_count": 25,
     "metadata": {},
     "output_type": "execute_result"
    }
   ],
   "source": [
    "len(documents)"
   ]
  },
  {
   "cell_type": "markdown",
   "id": "eab5c5d9-7efa-491e-837e-3af1755e11ba",
   "metadata": {},
   "source": [
    "# Question 2"
   ]
  },
  {
   "cell_type": "code",
   "execution_count": 27,
   "id": "51db867a-eec7-4a77-b9cd-8694b713a9e9",
   "metadata": {},
   "outputs": [],
   "source": [
    "embeddings = []\n",
    "\n",
    "for doc in documents:\n",
    "    question = doc['question']\n",
    "    text = doc['text']\n",
    "    qa_text = f'{question} {text}'\n",
    "    embeddings.append(embedding_model.encode(qa_text))"
   ]
  },
  {
   "cell_type": "code",
   "execution_count": 28,
   "id": "e36ccb4b-7be6-4ed0-b754-0f5350fadf14",
   "metadata": {},
   "outputs": [
    {
     "data": {
      "text/plain": [
       "375"
      ]
     },
     "execution_count": 28,
     "metadata": {},
     "output_type": "execute_result"
    }
   ],
   "source": [
    "len(embeddings)"
   ]
  },
  {
   "cell_type": "code",
   "execution_count": 30,
   "id": "5973510d-7eec-405d-af67-a4963e68ef02",
   "metadata": {},
   "outputs": [
    {
     "data": {
      "text/plain": [
       "768"
      ]
     },
     "execution_count": 30,
     "metadata": {},
     "output_type": "execute_result"
    }
   ],
   "source": [
    "len(embeddings[0])"
   ]
  },
  {
   "cell_type": "code",
   "execution_count": 31,
   "id": "cfc278f1-0e3e-495a-a3eb-a5a78802327a",
   "metadata": {},
   "outputs": [],
   "source": [
    "import numpy as np"
   ]
  },
  {
   "cell_type": "code",
   "execution_count": 32,
   "id": "15e594e9-c289-49f4-a45f-83f2d9066bf6",
   "metadata": {},
   "outputs": [],
   "source": [
    "X = np.array(embeddings)"
   ]
  },
  {
   "cell_type": "code",
   "execution_count": 33,
   "id": "4f351631-32e0-4c29-8a06-461629a526a5",
   "metadata": {},
   "outputs": [
    {
     "data": {
      "text/plain": [
       "(375, 768)"
      ]
     },
     "execution_count": 33,
     "metadata": {},
     "output_type": "execute_result"
    }
   ],
   "source": [
    "X.shape"
   ]
  },
  {
   "cell_type": "markdown",
   "id": "063b286a-b260-49cf-8375-69af411156f5",
   "metadata": {},
   "source": [
    "# Question 3"
   ]
  },
  {
   "cell_type": "code",
   "execution_count": 34,
   "id": "996298f8-d8cc-4035-8da4-42a305f57243",
   "metadata": {},
   "outputs": [
    {
     "data": {
      "text/plain": [
       "0.9999999"
      ]
     },
     "execution_count": 34,
     "metadata": {},
     "output_type": "execute_result"
    }
   ],
   "source": [
    "v_q.dot(v_q)"
   ]
  },
  {
   "cell_type": "code",
   "execution_count": 36,
   "id": "87b5de07-d016-4355-b7e4-58932932ca74",
   "metadata": {},
   "outputs": [
    {
     "data": {
      "text/plain": [
       "0.6506573"
      ]
     },
     "execution_count": 36,
     "metadata": {},
     "output_type": "execute_result"
    }
   ],
   "source": [
    "scores = X.dot(v_q)\n",
    "np.max(scores)"
   ]
  },
  {
   "cell_type": "code",
   "execution_count": 39,
   "id": "92b451fa-f58b-4211-b570-2d8f77138db1",
   "metadata": {},
   "outputs": [
    {
     "data": {
      "text/plain": [
       "[{'text': 'Yes, you can. You won’t be able to submit some of the homeworks, but you can still take part in the course.\\nIn order to get a certificate, you need to submit 2 out of 3 course projects and review 3 peers’ Projects by the deadline. It means that if you join the course at the end of November and manage to work on two projects, you will still be eligible for a certificate.',\n",
       "  'section': 'General course-related questions',\n",
       "  'question': 'The course has already started. Can I still join it?',\n",
       "  'course': 'machine-learning-zoomcamp',\n",
       "  'id': 'ee58a693'},\n",
       " {'text': 'Welcome to the course! Go to the course page (http://mlzoomcamp.com/), scroll down and start going through the course materials. Then read everything in the cohort folder for your cohort’s year.\\nClick on the links and start watching the videos. Also watch office hours from previous cohorts. Go to DTC youtube channel and click on Playlists and search for {course yyyy}. ML Zoomcamp was first launched in 2021.\\nOr you can just use this link: http://mlzoomcamp.com/#syllabus',\n",
       "  'section': 'General course-related questions',\n",
       "  'question': 'I just joined. What should I do next? How can I access course materials?',\n",
       "  'course': 'machine-learning-zoomcamp',\n",
       "  'id': '0a278fb2'},\n",
       " {'text': \"The process is automated now, so you should receive the email eventually. If you haven’t, check your promotions tab in Gmail as well as spam.\\nIf you unsubscribed from our newsletter, you won't get course related updates too.\\nBut don't worry, it’s not a problem. To make sure you don’t miss anything, join the #course-ml-zoomcamp channel in Slack and our telegram channel with announcements. This is enough to follow the course.\",\n",
       "  'section': 'General course-related questions',\n",
       "  'question': \"I filled the form, but haven't received a confirmation email. Is it normal?\",\n",
       "  'course': 'machine-learning-zoomcamp',\n",
       "  'id': '6ba259b1'},\n",
       " {'text': 'Technically, yes. Advisable? Not really. Reasons:\\nSome homework(s) asks for specific python library versions.\\nAnswers may not match in MCQ options if using different languages other than Python 3.10 (the recommended version for 2023 cohort)\\nAnd as for midterms/capstones, your peer-reviewers may not know these other languages. Do you want to be penalized for others not knowing these other languages?\\nYou can create a separate repo using course’s lessons but written in other languages for your own learnings, but not advisable for submissions.\\ntx[source]',\n",
       "  'section': 'Miscellaneous',\n",
       "  'question': 'Can I do the course in other languages, like R or Scala?',\n",
       "  'course': 'machine-learning-zoomcamp',\n",
       "  'id': '9f261648'},\n",
       " {'text': 'We won’t re-record the course videos. The focus of the course and the skills we want to teach remained the same, and the videos are still up-to-date.\\nIf you haven’t taken part in the previous iteration, you can start watching the videos. It’ll be useful for you and you will learn new things. However, we recommend using Python 3.10 now instead of Python 3.8.',\n",
       "  'section': 'General course-related questions',\n",
       "  'question': 'The course videos are from the previous iteration. Will you release new ones or we’ll use the videos from 2021?',\n",
       "  'course': 'machine-learning-zoomcamp',\n",
       "  'id': 'e7ba6b8a'}]"
      ]
     },
     "execution_count": 39,
     "metadata": {},
     "output_type": "execute_result"
    }
   ],
   "source": [
    "class VectorSearchEngine():\n",
    "    def __init__(self, documents, embeddings):\n",
    "        self.documents = documents\n",
    "        self.embeddings = embeddings\n",
    "\n",
    "    def search(self, v_query, num_results=10):\n",
    "        scores = self.embeddings.dot(v_query)\n",
    "        idx = np.argsort(-scores)[:num_results]\n",
    "        return [self.documents[i] for i in idx]\n",
    "\n",
    "search_engine = VectorSearchEngine(documents=documents, embeddings=X)\n",
    "search_engine.search(v_q, num_results=5)"
   ]
  },
  {
   "cell_type": "markdown",
   "id": "ad95693f-a5d7-4678-8a6c-33c1dc3a7afa",
   "metadata": {},
   "source": [
    "# Question 4"
   ]
  },
  {
   "cell_type": "code",
   "execution_count": 40,
   "id": "617d4fc7-7ed8-44c0-9dfb-8a223baa6d4d",
   "metadata": {},
   "outputs": [],
   "source": [
    "import pandas as pd\n",
    "\n",
    "base_url = 'https://github.com/DataTalksClub/llm-zoomcamp/blob/main'\n",
    "relative_url = '03-vector-search/eval/ground-truth-data.csv'\n",
    "ground_truth_url = f'{base_url}/{relative_url}?raw=1'\n",
    "\n",
    "df_ground_truth = pd.read_csv(ground_truth_url)\n",
    "df_ground_truth = df_ground_truth[df_ground_truth.course == 'machine-learning-zoomcamp']\n",
    "ground_truth = df_ground_truth.to_dict(orient='records')"
   ]
  },
  {
   "cell_type": "code",
   "execution_count": 43,
   "id": "fc56f956-421c-4ea7-8583-8da278e16ca2",
   "metadata": {},
   "outputs": [
    {
     "data": {
      "text/plain": [
       "{'question': 'Where can I sign up for the course?',\n",
       " 'course': 'machine-learning-zoomcamp',\n",
       " 'document': '0227b872'}"
      ]
     },
     "execution_count": 43,
     "metadata": {},
     "output_type": "execute_result"
    }
   ],
   "source": [
    "ground_truth[0]"
   ]
  },
  {
   "cell_type": "code",
   "execution_count": 46,
   "id": "6648fbd7-b2fc-4178-8c10-b9fb383940c8",
   "metadata": {},
   "outputs": [],
   "source": [
    "def vector_search(q):\n",
    "    v_q = embedding_model.encode(q)\n",
    "    return search_engine.search(v_q, num_results=5)"
   ]
  },
  {
   "cell_type": "code",
   "execution_count": 41,
   "id": "1a34a653-0370-49bf-a683-8a8a773a0abe",
   "metadata": {},
   "outputs": [],
   "source": [
    "def hit_rate(relevance_total):\n",
    "    cnt = 0\n",
    "\n",
    "    for line in relevance_total:\n",
    "        if True in line:\n",
    "            cnt = cnt + 1\n",
    "\n",
    "    return cnt / len(relevance_total)"
   ]
  },
  {
   "cell_type": "code",
   "execution_count": 42,
   "id": "258a9640-2061-437f-b1db-3614aa04c1ce",
   "metadata": {},
   "outputs": [],
   "source": [
    "def mrr(relevance_total):\n",
    "    total_score = 0.0\n",
    "\n",
    "    for line in relevance_total:\n",
    "        for rank in range(len(line)):\n",
    "            if line[rank] == True:\n",
    "                total_score = total_score + 1 / (rank + 1)\n",
    "\n",
    "    return total_score / len(relevance_total)"
   ]
  },
  {
   "cell_type": "code",
   "execution_count": 50,
   "id": "d38d9829-1e0b-4746-a63b-715c701f7ca5",
   "metadata": {},
   "outputs": [],
   "source": [
    "from tqdm.notebook import tqdm"
   ]
  },
  {
   "cell_type": "code",
   "execution_count": 51,
   "id": "b8942d33-96ee-4b7d-a5de-e2d7fa715f6b",
   "metadata": {},
   "outputs": [],
   "source": [
    "def evaluate(ground_truth, search_function):\n",
    "    relevance_total = []\n",
    "\n",
    "    for q in tqdm(ground_truth):\n",
    "        doc_id = q['document']\n",
    "        question = q['question']\n",
    "        results = search_function(question)\n",
    "        relevance = [d['id'] == doc_id for d in results]\n",
    "        relevance_total.append(relevance)\n",
    "\n",
    "    return {\n",
    "        'hit_rate': hit_rate(relevance_total),\n",
    "        'mrr': mrr(relevance_total),\n",
    "    }"
   ]
  },
  {
   "cell_type": "code",
   "execution_count": 52,
   "id": "d2fcab99-1a67-4b86-86a5-ac604e90753e",
   "metadata": {},
   "outputs": [
    {
     "data": {
      "application/vnd.jupyter.widget-view+json": {
       "model_id": "e56ae4ffa91d41b6abc0d18317ca77da",
       "version_major": 2,
       "version_minor": 0
      },
      "text/plain": [
       "  0%|          | 0/1830 [00:00<?, ?it/s]"
      ]
     },
     "metadata": {},
     "output_type": "display_data"
    },
    {
     "data": {
      "text/plain": [
       "{'hit_rate': 0.9398907103825137, 'mrr': 0.8516484517304189}"
      ]
     },
     "execution_count": 52,
     "metadata": {},
     "output_type": "execute_result"
    }
   ],
   "source": [
    "evaluate(ground_truth, vector_search)"
   ]
  },
  {
   "cell_type": "markdown",
   "id": "ccc0385c-e456-46b9-921c-5fc70df21add",
   "metadata": {},
   "source": [
    "# Question 5"
   ]
  },
  {
   "cell_type": "code",
   "execution_count": 54,
   "id": "299deaa5-dbd0-47ba-ae11-b5ec6a1016e3",
   "metadata": {},
   "outputs": [
    {
     "data": {
      "text/plain": [
       "{'text': 'Machine Learning Zoomcamp FAQ\\nThe purpose of this document is to capture frequently asked technical questions.\\nWe did this for our data engineering course and it worked quite well. Check this document for inspiration on how to structure your questions and answers:\\nData Engineering Zoomcamp FAQ\\nIn the course GitHub repository there’s a link. Here it is: https://airtable.com/shryxwLd0COOEaqXo\\nwork',\n",
       " 'section': 'General course-related questions',\n",
       " 'question': 'How do I sign up?',\n",
       " 'course': 'machine-learning-zoomcamp',\n",
       " 'id': '0227b872'}"
      ]
     },
     "execution_count": 54,
     "metadata": {},
     "output_type": "execute_result"
    }
   ],
   "source": [
    "documents[0]"
   ]
  },
  {
   "cell_type": "code",
   "execution_count": 58,
   "id": "cee3fd31-748d-4f8b-a22f-6bd60bf69077",
   "metadata": {},
   "outputs": [
    {
     "data": {
      "text/plain": [
       "ObjectApiResponse({'acknowledged': True, 'shards_acknowledged': True, 'index': 'course-questions'})"
      ]
     },
     "execution_count": 58,
     "metadata": {},
     "output_type": "execute_result"
    }
   ],
   "source": [
    "from elasticsearch import Elasticsearch\n",
    "\n",
    "es_client = Elasticsearch('http://localhost:9200') \n",
    "\n",
    "index_settings = {\n",
    "    \"settings\": {\n",
    "        \"number_of_shards\": 1,\n",
    "        \"number_of_replicas\": 0\n",
    "    },\n",
    "    \"mappings\": {\n",
    "        \"properties\": {\n",
    "            \"text\": {\"type\": \"text\"},\n",
    "            \"section\": {\"type\": \"text\"},\n",
    "            \"question\": {\"type\": \"text\"},\n",
    "            \"course\": {\"type\": \"keyword\"},\n",
    "            \"id\": {\"type\": \"keyword\"},\n",
    "            \"question_text_vector\": {\n",
    "                \"type\": \"dense_vector\",\n",
    "                \"dims\": 768,\n",
    "                \"index\": True,\n",
    "                \"similarity\": \"cosine\"\n",
    "            },\n",
    "        }\n",
    "    }\n",
    "}\n",
    "\n",
    "index_name = \"course-questions\"\n",
    "\n",
    "es_client.indices.delete(index=index_name, ignore_unavailable=True)\n",
    "es_client.indices.create(index=index_name, body=index_settings)"
   ]
  },
  {
   "cell_type": "code",
   "execution_count": 59,
   "id": "4eb0fb25-d9b6-44c0-a41b-4fdd16dcf85d",
   "metadata": {},
   "outputs": [
    {
     "data": {
      "application/vnd.jupyter.widget-view+json": {
       "model_id": "32191c46478346519f313ea64c433b9a",
       "version_major": 2,
       "version_minor": 0
      },
      "text/plain": [
       "0it [00:00, ?it/s]"
      ]
     },
     "metadata": {},
     "output_type": "display_data"
    }
   ],
   "source": [
    "for doc, embedding in tqdm(zip(documents, embeddings)):\n",
    "    doc['question_text_vector'] = embedding"
   ]
  },
  {
   "cell_type": "code",
   "execution_count": 60,
   "id": "8d1a54df-6d38-4aff-92c6-4e92304e1135",
   "metadata": {},
   "outputs": [
    {
     "data": {
      "text/plain": [
       "{'text': 'Machine Learning Zoomcamp FAQ\\nThe purpose of this document is to capture frequently asked technical questions.\\nWe did this for our data engineering course and it worked quite well. Check this document for inspiration on how to structure your questions and answers:\\nData Engineering Zoomcamp FAQ\\nIn the course GitHub repository there’s a link. Here it is: https://airtable.com/shryxwLd0COOEaqXo\\nwork',\n",
       " 'section': 'General course-related questions',\n",
       " 'question': 'How do I sign up?',\n",
       " 'course': 'machine-learning-zoomcamp',\n",
       " 'id': '0227b872',\n",
       " 'question_text_vector': array([ 8.80590975e-02,  1.55936414e-02,  7.92557523e-02,  2.52757873e-02,\n",
       "         7.55764544e-02, -3.90596576e-02, -4.13813144e-02,  2.52917018e-02,\n",
       "         2.43241154e-02,  3.62588698e-03, -7.28290575e-03, -3.28750871e-02,\n",
       "         6.12956472e-02, -5.71100302e-02,  1.16774915e-02, -1.79441571e-02,\n",
       "         4.49205637e-02, -5.41606732e-02, -1.92254549e-03,  1.48329679e-02,\n",
       "         7.91346282e-03, -3.43126804e-02,  1.21480739e-02,  1.27186067e-02,\n",
       "        -1.60091538e-02,  7.12129334e-03,  1.58389118e-02, -3.27577436e-04,\n",
       "         3.01294983e-03, -4.58917357e-02, -1.34771829e-03,  2.01150198e-02,\n",
       "         2.33724006e-02, -4.28201351e-03, -3.09382826e-02,  1.94304902e-03,\n",
       "        -1.88219231e-02,  5.35164634e-03,  1.29352892e-02, -3.23958993e-02,\n",
       "         3.10556535e-02,  5.12984721e-03, -3.24451219e-04, -3.15542296e-02,\n",
       "         1.93376988e-02, -6.38601556e-02, -3.05380933e-02, -6.27885535e-02,\n",
       "        -1.74859986e-02,  3.52948830e-02, -2.98071075e-02,  7.45346099e-02,\n",
       "        -2.06181873e-02, -1.79156903e-02,  1.86262317e-02,  5.31014055e-02,\n",
       "         1.19287018e-02, -5.18542863e-02, -1.61929650e-03,  3.58705744e-02,\n",
       "        -6.52321987e-03,  4.53287065e-02, -1.06173875e-02,  1.02415448e-02,\n",
       "        -4.41201478e-02, -7.07986057e-02,  1.33665195e-02, -2.05063280e-02,\n",
       "         3.62042300e-02, -3.39450017e-02,  3.25138420e-02,  2.22204681e-02,\n",
       "        -3.24136801e-02, -3.93159576e-02,  2.75365048e-04,  2.43686363e-02,\n",
       "         1.57889929e-02,  2.50409320e-02,  1.70953735e-03, -2.63269787e-04,\n",
       "         4.40216996e-02, -5.46364523e-02,  2.34348532e-02,  2.99486890e-02,\n",
       "         1.41274789e-02, -2.91330274e-02, -6.47386676e-03, -3.54053266e-02,\n",
       "         1.71306003e-02,  2.90904865e-02,  1.46858608e-02,  8.54330231e-03,\n",
       "        -3.44417691e-02, -1.04836253e-02,  3.15485373e-02, -8.74644369e-02,\n",
       "        -2.11829599e-02, -5.05226739e-02, -7.52343517e-03,  4.42793146e-02,\n",
       "         3.77509557e-02, -1.24984561e-03,  6.45406824e-03, -1.53079564e-02,\n",
       "         1.66408177e-02,  5.46391048e-02,  1.78501196e-02, -7.61287939e-03,\n",
       "        -4.61102873e-02,  4.10019718e-02, -4.52273265e-02, -2.77623367e-02,\n",
       "         1.95288192e-02, -6.11867942e-02,  1.12644332e-02,  5.08546131e-03,\n",
       "         4.85851131e-02, -9.07002576e-03, -9.79342312e-03,  1.72461923e-02,\n",
       "        -7.30905458e-02,  5.36573380e-02, -3.24016437e-02,  1.24105252e-02,\n",
       "         1.06903594e-02,  3.30720805e-02,  4.14839461e-02,  3.38428579e-02,\n",
       "        -1.12891197e-03, -9.08526182e-02,  3.76023329e-03, -3.49575132e-02,\n",
       "         1.31473728e-02,  1.33828092e-02,  3.44474725e-02,  6.85055256e-02,\n",
       "        -1.42454347e-02, -5.42298630e-02, -8.57374538e-03,  2.42687818e-02,\n",
       "         5.15868664e-02, -2.89775915e-02, -1.47677278e-02, -1.08240098e-02,\n",
       "        -5.66393398e-02, -2.07523280e-03, -3.71209756e-02,  4.00512340e-03,\n",
       "        -5.97901307e-02, -1.55889383e-02,  2.72704102e-02,  1.94720943e-02,\n",
       "         1.87415369e-02, -3.74509953e-02,  2.62066629e-02,  7.50286505e-02,\n",
       "         2.16101818e-02, -1.37812691e-02,  5.01988381e-02, -6.47025369e-03,\n",
       "         5.67429736e-02, -4.03867923e-02, -1.20674800e-02,  8.55053291e-02,\n",
       "        -2.71650520e-03,  2.78823134e-02, -4.38817665e-02, -2.82746255e-02,\n",
       "         1.92068331e-02, -4.36237119e-02,  3.98129895e-02, -5.63067757e-02,\n",
       "         1.37331216e-02,  4.01089108e-03, -7.01449485e-03, -1.51920132e-02,\n",
       "         4.40157801e-02,  2.72326004e-02,  3.32806930e-02,  3.21898498e-02,\n",
       "        -8.18990618e-02, -5.92770278e-02,  2.22220197e-02, -2.69076228e-02,\n",
       "         4.15942371e-02, -1.37761086e-02,  4.10629772e-02,  4.05325070e-02,\n",
       "        -5.58695644e-02,  3.60302255e-02, -6.35678647e-03, -1.65047217e-02,\n",
       "        -1.07159757e-03, -7.76120275e-03,  5.12158759e-02, -3.07670422e-02,\n",
       "        -3.98046449e-02,  2.19666529e-02, -9.50633455e-03,  2.66281534e-02,\n",
       "         3.57357487e-02,  5.89501299e-02,  5.54056372e-03, -1.41583930e-03,\n",
       "        -2.31176466e-02,  2.41289497e-03, -2.71170791e-02, -3.01101860e-02,\n",
       "        -1.71694700e-02, -3.58681530e-02, -4.03451286e-02,  2.02253778e-02,\n",
       "         1.31838033e-02, -1.05260080e-02,  1.65335611e-02, -1.22697214e-02,\n",
       "        -3.93679924e-02,  9.12590045e-03, -1.34845832e-02,  2.73655429e-02,\n",
       "         3.88677716e-02, -3.65221174e-03, -2.11338904e-02,  2.25964235e-04,\n",
       "        -3.12622301e-02, -3.47089097e-02, -4.12916094e-02,  2.91098114e-02,\n",
       "         5.44959009e-02, -1.32070020e-01,  9.59289353e-03, -1.37134576e-02,\n",
       "         4.40675244e-02, -1.03825673e-01,  6.36643246e-02,  8.60986952e-03,\n",
       "         1.49037326e-02,  8.22797418e-04, -2.20600944e-02, -9.55928233e-04,\n",
       "        -4.45772486e-04, -1.26142744e-02, -4.75995466e-02, -2.14227159e-02,\n",
       "         4.69317697e-02,  2.59528235e-02, -1.09705217e-02, -1.69420205e-02,\n",
       "         7.51989288e-03, -5.15509546e-02,  4.28995714e-02,  1.28117937e-03,\n",
       "        -1.04662906e-02, -1.64835975e-02, -4.98016365e-02,  4.39343415e-02,\n",
       "         5.84346540e-02, -4.44175526e-02,  6.89997571e-03,  5.39160073e-02,\n",
       "         1.75766088e-02,  7.08559481e-03, -2.18797307e-02, -1.89143675e-03,\n",
       "         1.05513949e-02, -5.98141216e-02, -3.13124880e-02, -2.73169093e-02,\n",
       "         3.12896855e-02,  5.49117103e-02, -1.85728353e-02, -2.15361305e-02,\n",
       "         6.17362484e-02,  7.07528694e-03,  2.01493874e-02, -4.06040698e-02,\n",
       "         2.30052900e-02,  2.01894883e-02,  1.80803239e-02,  3.35160717e-02,\n",
       "        -2.27058791e-02, -5.81536666e-02,  3.04264668e-02, -1.40141770e-02,\n",
       "         2.95397658e-02,  1.17535843e-02, -7.83733577e-02,  2.78971754e-02,\n",
       "        -4.30106334e-02, -7.59009868e-02,  4.92750369e-02,  7.59606883e-02,\n",
       "         3.54479882e-03,  5.81535324e-02,  4.69778962e-02, -4.00013383e-03,\n",
       "        -4.00544470e-03,  2.51614954e-02, -9.95812193e-02,  3.34291458e-02,\n",
       "        -3.01805255e-03,  3.01541034e-02,  4.54931892e-02, -7.25229234e-02,\n",
       "         4.01626788e-02, -1.16757527e-02, -6.19697198e-03, -9.54162627e-02,\n",
       "        -3.01121678e-02, -2.74964646e-02, -4.44819666e-02,  1.52521825e-03,\n",
       "        -6.31316900e-02, -8.02881420e-02,  4.55777720e-02,  3.08043566e-02,\n",
       "        -4.65147942e-03, -2.48242542e-03, -1.87035277e-02,  3.56814228e-02,\n",
       "        -8.61485749e-02, -8.76672100e-03,  5.94233721e-02,  7.03033656e-02,\n",
       "        -3.35509563e-03,  3.14285420e-02,  3.35557386e-02,  4.47359793e-02,\n",
       "        -1.82780791e-02,  4.33742674e-03, -1.56071922e-02,  4.82698232e-02,\n",
       "         5.78110181e-02, -1.55577180e-03, -3.07916682e-02,  3.06998007e-02,\n",
       "         3.05094868e-02,  4.37345095e-02, -2.46432442e-02, -1.98744629e-02,\n",
       "         7.25643290e-03,  3.61755118e-02, -1.86709464e-02, -1.69780590e-02,\n",
       "         5.28292395e-02,  1.72063406e-03,  3.34721021e-02, -6.57696947e-02,\n",
       "        -3.20816934e-02,  4.12170170e-03,  8.29512533e-03, -4.56412435e-02,\n",
       "         3.20224874e-02, -2.28898078e-02,  5.52555881e-02,  4.02578376e-02,\n",
       "        -2.90957466e-02, -3.44282878e-03, -1.38216792e-02, -6.28973474e-04,\n",
       "         2.53444519e-02,  1.89793464e-02, -4.45093438e-02, -4.78352122e-02,\n",
       "         3.22866365e-02,  6.68824837e-02, -8.67471378e-03, -7.80021260e-03,\n",
       "         2.92885443e-03, -2.42292583e-02, -2.09650192e-02, -1.09208830e-01,\n",
       "        -2.94363815e-02,  1.47711653e-02, -4.47422303e-02, -2.71010417e-02,\n",
       "        -3.91126843e-03,  1.68100167e-02,  3.11841965e-02,  1.24178873e-02,\n",
       "         6.59741228e-03, -4.44687530e-03, -3.45145687e-02, -1.24455802e-03,\n",
       "         5.61032929e-02, -4.12151329e-02,  4.74843755e-02,  3.92921157e-02,\n",
       "        -5.78538924e-02, -4.47588153e-02,  1.95152909e-02,  3.01112309e-02,\n",
       "        -8.72338004e-03, -2.85054315e-02, -7.27260113e-03,  3.58912945e-02,\n",
       "        -7.09610134e-02, -6.56752661e-02,  5.03811613e-03,  2.90020797e-02,\n",
       "         4.08624439e-03,  7.97060598e-03, -2.29644384e-02, -4.41171974e-02,\n",
       "         4.12211940e-02,  2.17065457e-02,  1.23129589e-02, -1.74234472e-02,\n",
       "        -1.55700017e-02, -1.17438370e-02,  5.18719889e-02,  3.44450260e-03,\n",
       "        -6.66774958e-02,  3.35144177e-02, -4.39760927e-03, -3.66432853e-02,\n",
       "         7.48344585e-02,  1.37544172e-02, -5.05722240e-02, -1.69508103e-02,\n",
       "        -9.13898945e-02,  3.94618772e-02, -4.91534285e-02,  2.32399721e-02,\n",
       "        -6.95741503e-03, -2.49377191e-02,  1.79813821e-02, -3.91750969e-02,\n",
       "         2.72794198e-02,  5.39086312e-02,  6.70256838e-02,  2.87339576e-02,\n",
       "         7.15196272e-03,  4.48691435e-02, -2.89589502e-02,  2.67861951e-02,\n",
       "         6.71393350e-02, -3.71886254e-03, -2.13471223e-02,  4.02928479e-02,\n",
       "         5.37431352e-02,  2.69306265e-03,  3.33235487e-02,  4.19460610e-02,\n",
       "         3.77101600e-02,  1.00907283e-02,  1.64033696e-02,  1.37284631e-02,\n",
       "         4.92302813e-02,  5.35364486e-02,  5.79526387e-02, -3.29138711e-02,\n",
       "         1.22460397e-02,  2.88262032e-02, -4.93664015e-03,  2.96172798e-02,\n",
       "         6.32615341e-03, -4.79912758e-02, -3.14916223e-02, -3.97242419e-02,\n",
       "        -3.50666046e-02,  2.99802050e-03, -9.44073033e-03,  2.62566865e-03,\n",
       "         9.90502723e-03, -5.18645085e-02,  2.04040520e-02,  3.75541896e-02,\n",
       "         8.65956303e-03,  3.73829305e-02,  2.54472196e-02, -1.32635580e-02,\n",
       "         8.06263387e-02,  2.10316051e-02, -1.99040137e-02, -1.00638801e-02,\n",
       "        -3.93789522e-02, -3.32228467e-02,  1.41281672e-02,  4.00278457e-02,\n",
       "        -7.60372449e-03, -4.89356741e-02, -2.67797094e-02, -5.59407696e-02,\n",
       "         3.21788527e-02,  8.22694786e-03,  3.76135856e-02,  8.17610789e-03,\n",
       "        -1.37846917e-02, -2.16961168e-02,  1.27261253e-02, -6.38868846e-03,\n",
       "        -8.46952386e-03, -6.06383849e-03, -1.16484901e-02,  1.15114078e-02,\n",
       "         2.72040069e-02, -1.29374973e-02, -1.30015137e-02,  3.71455438e-02,\n",
       "         2.18766760e-02,  2.41833068e-02,  3.43376072e-04, -1.44564714e-02,\n",
       "         3.24437916e-02,  5.78669757e-02,  1.25016142e-02,  1.83984526e-02,\n",
       "        -7.32085332e-02, -1.24306343e-02, -1.85830966e-02, -2.32730852e-03,\n",
       "         1.47508522e-02,  1.19953807e-02, -2.08625128e-03, -2.90984977e-02,\n",
       "         3.42253858e-04, -2.48183347e-02, -2.78203711e-02, -3.26307886e-03,\n",
       "        -1.13068679e-02, -3.82189602e-02, -8.83377865e-02, -2.67932713e-02,\n",
       "        -4.97603081e-02,  1.06248716e-02, -2.03506574e-02,  4.61896844e-02,\n",
       "         3.04142628e-02,  7.39258602e-02, -1.93729047e-02, -6.24436885e-02,\n",
       "        -4.30182591e-02, -2.44435575e-03,  2.31976192e-02,  2.40072217e-02,\n",
       "        -6.32213056e-02, -1.28707429e-02, -1.06627634e-02, -1.21627897e-02,\n",
       "         4.63577099e-02,  8.66867881e-03, -3.91136259e-02,  5.18057868e-03,\n",
       "        -3.37269194e-02,  4.08052951e-02,  4.56021577e-02, -5.35720075e-03,\n",
       "         1.47815840e-02,  6.52764970e-03, -1.91998500e-02,  1.32418806e-02,\n",
       "         1.28353126e-02,  3.14028785e-02,  2.19753589e-02, -1.87768750e-02,\n",
       "         9.01829824e-03,  1.66758727e-02,  1.36969087e-03,  4.85401489e-02,\n",
       "        -5.04996516e-02,  2.72835791e-02, -2.80780345e-03,  8.74806941e-03,\n",
       "         2.16660369e-02,  1.66532192e-02, -4.64340895e-02, -1.94113087e-02,\n",
       "         1.49265062e-02, -2.04602778e-02, -9.30300280e-02, -3.57580697e-03,\n",
       "         4.36928533e-02,  4.18228209e-02, -1.04740439e-02,  9.13386978e-03,\n",
       "        -1.26577588e-02,  9.28756606e-04,  3.03164870e-02,  9.25374590e-03,\n",
       "        -1.58131390e-03,  6.60841465e-02,  1.97660439e-02, -3.60444449e-02,\n",
       "        -3.43120145e-03, -3.59756202e-02,  1.49511863e-02, -2.88110375e-02,\n",
       "         1.71100665e-02,  4.95878309e-02,  3.53193954e-02,  4.19225805e-02,\n",
       "         4.83730435e-02,  1.96335483e-02, -1.70033262e-03,  9.81865525e-02,\n",
       "         1.77094154e-02, -3.84565000e-03, -4.52681370e-02, -4.13474953e-03,\n",
       "        -5.71960434e-02,  1.04758739e-02,  1.73035171e-02,  4.14521210e-02,\n",
       "         1.68830045e-02, -1.23576019e-02, -1.35784848e-02,  6.87891543e-02,\n",
       "         1.86709017e-02,  5.50276190e-02,  2.71758959e-02, -3.02900337e-02,\n",
       "         4.20797281e-02,  3.58546302e-02, -7.05273300e-02,  8.97798222e-03,\n",
       "         3.04065086e-02, -4.93475795e-03, -3.86132449e-02, -6.36185035e-02,\n",
       "        -1.28049515e-02,  1.45554077e-02, -3.86997052e-02, -1.90096125e-02,\n",
       "        -4.16539162e-02, -5.53315766e-02,  3.14243883e-03, -4.05708663e-02,\n",
       "        -4.65663522e-03,  1.20833917e-02,  3.92554365e-02, -1.48489559e-02,\n",
       "        -4.43879627e-02, -1.95001997e-02, -2.00037770e-02, -3.84879708e-02,\n",
       "         6.50726706e-02,  1.58444489e-03,  2.42223963e-02,  2.11767647e-02,\n",
       "        -2.80457083e-02,  5.06496243e-02, -3.17925029e-02, -3.93060222e-02,\n",
       "        -7.48628229e-02, -1.47939054e-02,  2.93559255e-03, -1.90876354e-03,\n",
       "        -4.62152883e-02,  2.79246122e-02,  5.36212251e-02,  5.08887060e-02,\n",
       "        -3.63442972e-02,  4.83041778e-02,  2.08878983e-02,  4.74292450e-02,\n",
       "         4.92657442e-03, -2.71409936e-02,  5.47685511e-02, -4.14409526e-02,\n",
       "        -5.68517949e-03, -3.04766130e-02,  3.94585961e-03, -3.12195234e-02,\n",
       "        -4.37382758e-02,  2.12003738e-02, -1.80494115e-02,  2.81700511e-02,\n",
       "         3.96551453e-02, -5.35950176e-02,  5.33269383e-02,  7.67338928e-03,\n",
       "        -2.33186316e-02, -1.42170545e-02,  5.31647392e-02, -3.49746421e-02,\n",
       "         6.54081479e-02,  4.37313169e-02, -7.25452006e-02,  4.89383675e-02,\n",
       "        -9.12466832e-03,  4.59331833e-02, -3.46429870e-02, -2.72385720e-02,\n",
       "        -3.04770526e-02, -4.05410528e-02,  5.07943965e-02,  2.39162259e-02,\n",
       "        -4.21276204e-02, -7.53407329e-02, -6.36671102e-05,  2.31820159e-02,\n",
       "         2.98201311e-02, -4.67950813e-02,  1.05024893e-02, -8.33896361e-03,\n",
       "        -2.53908727e-02, -2.78916210e-03, -5.80482334e-02, -3.58988419e-02,\n",
       "         1.04234079e-02, -3.31453681e-02, -2.29870901e-02,  1.90615095e-02,\n",
       "        -4.05620523e-02,  3.41113610e-03,  1.07715651e-02,  5.10822944e-02,\n",
       "        -3.88364270e-02, -3.84785235e-02,  4.38733958e-02, -3.46118659e-02,\n",
       "         1.73041578e-02,  1.62715446e-02,  2.14489754e-02, -2.26181690e-02,\n",
       "        -1.69365834e-02,  2.30085962e-02,  2.55132671e-02,  8.10870156e-02,\n",
       "         5.52573018e-02,  1.81327797e-02,  2.32690293e-02,  7.37191588e-02,\n",
       "        -2.53651887e-02,  1.41270934e-02,  7.17905769e-03,  4.39648665e-02,\n",
       "        -1.27545102e-02,  2.30465904e-02,  3.01264804e-02, -7.24171335e-03,\n",
       "         3.82401608e-02,  5.56619354e-02, -6.76997527e-02, -2.43170392e-02,\n",
       "        -1.17053147e-02, -1.58955269e-02,  4.49812971e-02, -5.12632430e-02,\n",
       "         2.38026287e-02,  3.47883888e-02, -3.94906141e-02, -3.04278713e-02,\n",
       "         3.11546549e-02, -2.13785488e-02,  3.09259277e-02,  1.42324632e-02,\n",
       "        -6.56462014e-02,  1.46022039e-02,  3.42594879e-03,  4.44190055e-02,\n",
       "         2.20307754e-03, -1.86533984e-02,  1.99845359e-02, -5.16025983e-02,\n",
       "        -4.81741726e-02,  1.30593311e-02,  1.76973585e-02, -1.19784446e-02,\n",
       "        -9.83287301e-03, -7.01445267e-02, -6.58488423e-02,  6.75936937e-02,\n",
       "        -2.80170403e-02,  7.45118642e-03,  2.41912133e-03,  1.14713171e-02],\n",
       "       dtype=float32)}"
      ]
     },
     "execution_count": 60,
     "metadata": {},
     "output_type": "execute_result"
    }
   ],
   "source": [
    "documents[0]"
   ]
  },
  {
   "cell_type": "code",
   "execution_count": 61,
   "id": "ea953768-894c-4429-ab8f-36f4ac33236b",
   "metadata": {},
   "outputs": [
    {
     "data": {
      "application/vnd.jupyter.widget-view+json": {
       "model_id": "f36f4da184b54abaa26b181c42fe2de9",
       "version_major": 2,
       "version_minor": 0
      },
      "text/plain": [
       "  0%|          | 0/375 [00:00<?, ?it/s]"
      ]
     },
     "metadata": {},
     "output_type": "display_data"
    }
   ],
   "source": [
    "for doc in tqdm(documents):\n",
    "    es_client.index(index=index_name, document=doc)"
   ]
  },
  {
   "cell_type": "code",
   "execution_count": 68,
   "id": "929e836b-c8ea-48f2-bbf4-ea09b157c996",
   "metadata": {},
   "outputs": [],
   "source": [
    "def elastic_search_knn(field, vector):\n",
    "    knn = {\n",
    "        \"field\": field,\n",
    "        \"query_vector\": vector,\n",
    "        \"k\": 5,\n",
    "        \"num_candidates\": 10000\n",
    "    }\n",
    "\n",
    "    search_query = {\n",
    "        \"knn\": knn,\n",
    "        \"_source\": [\"text\", \"section\", \"question\", \"course\", \"id\"]\n",
    "    }\n",
    "\n",
    "    es_results = es_client.search(\n",
    "        index=index_name,\n",
    "        body=search_query\n",
    "    )\n",
    "    \n",
    "    result_docs = []\n",
    "    \n",
    "    for hit in es_results['hits']['hits']:\n",
    "        result = hit['_source']\n",
    "        result['score'] = hit['_score']\n",
    "        result_docs.append(result)\n",
    "\n",
    "    return result_docs"
   ]
  },
  {
   "cell_type": "code",
   "execution_count": 69,
   "id": "9fed7b1a-a668-436f-9959-bfb2e75be29c",
   "metadata": {},
   "outputs": [],
   "source": [
    "field = \"question_text_vector\""
   ]
  },
  {
   "cell_type": "code",
   "execution_count": 71,
   "id": "687bf3a5-d44e-40df-8af5-90623a1698e5",
   "metadata": {},
   "outputs": [
    {
     "data": {
      "text/plain": [
       "{'question': 'The course has already started. Can I still join it?',\n",
       " 'course': 'machine-learning-zoomcamp',\n",
       " 'section': 'General course-related questions',\n",
       " 'text': 'Yes, you can. You won’t be able to submit some of the homeworks, but you can still take part in the course.\\nIn order to get a certificate, you need to submit 2 out of 3 course projects and review 3 peers’ Projects by the deadline. It means that if you join the course at the end of November and manage to work on two projects, you will still be eligible for a certificate.',\n",
       " 'id': 'ee58a693',\n",
       " 'score': 0.82532895}"
      ]
     },
     "execution_count": 71,
     "metadata": {},
     "output_type": "execute_result"
    }
   ],
   "source": [
    "elastic_search_knn(field=field, vector=v_q)[0]"
   ]
  },
  {
   "cell_type": "markdown",
   "id": "935b13e8-91bd-4a15-a029-ded4baa05868",
   "metadata": {},
   "source": [
    "# Question 6"
   ]
  },
  {
   "cell_type": "code",
   "execution_count": 72,
   "id": "41afb18a-d8ea-4cbc-b44a-3969285c175e",
   "metadata": {},
   "outputs": [],
   "source": [
    "def es_vector_search(q):\n",
    "    v_q = embedding_model.encode(q)\n",
    "    return elastic_search_knn(\"question_text_vector\", v_q)"
   ]
  },
  {
   "cell_type": "code",
   "execution_count": 73,
   "id": "3460cbd0-be77-4cd8-8c9d-9304efa71e0c",
   "metadata": {},
   "outputs": [
    {
     "data": {
      "application/vnd.jupyter.widget-view+json": {
       "model_id": "065012995f504986a4110eb4d35d03c2",
       "version_major": 2,
       "version_minor": 0
      },
      "text/plain": [
       "  0%|          | 0/1830 [00:00<?, ?it/s]"
      ]
     },
     "metadata": {},
     "output_type": "display_data"
    },
    {
     "data": {
      "text/plain": [
       "{'hit_rate': 0.9398907103825137, 'mrr': 0.8516484517304189}"
      ]
     },
     "execution_count": 73,
     "metadata": {},
     "output_type": "execute_result"
    }
   ],
   "source": [
    "evaluate(ground_truth, es_vector_search)"
   ]
  }
 ],
 "metadata": {
  "kernelspec": {
   "display_name": "Python 3 (ipykernel)",
   "language": "python",
   "name": "python3"
  },
  "language_info": {
   "codemirror_mode": {
    "name": "ipython",
    "version": 3
   },
   "file_extension": ".py",
   "mimetype": "text/x-python",
   "name": "python",
   "nbconvert_exporter": "python",
   "pygments_lexer": "ipython3",
   "version": "3.10.14"
  }
 },
 "nbformat": 4,
 "nbformat_minor": 5
}
